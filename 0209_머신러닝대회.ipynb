{
 "cells": [
  {
   "cell_type": "code",
   "execution_count": 1,
   "metadata": {},
   "outputs": [],
   "source": [
    "#항상 불러와야되는거\n",
    "from IPython.display import display\n",
    "import numpy as np\n",
    "import matplotlib.pyplot as plt\n",
    "%matplotlib inline\n",
    "import pandas as pd\n",
    "import seaborn as sns\n",
    "sns.set()"
   ]
  },
  {
   "cell_type": "markdown",
   "metadata": {},
   "source": [
    "- baseline 모델링\n",
    "- 데이터 로딩\n",
    "- 문제, 답 나누기\n",
    "- 데이터 탐색( 결측치 확인, 시각화)\n",
    "- KNN, DecisionTree 모델 학습 및 예측"
   ]
  },
  {
   "cell_type": "code",
   "execution_count": 2,
   "metadata": {},
   "outputs": [],
   "source": [
    "from sklearn.metrics import accuracy_score "
   ]
  },
  {
   "cell_type": "code",
   "execution_count": 3,
   "metadata": {},
   "outputs": [],
   "source": [
    "train=pd.read_csv(\"smhrd20210201 (1)/train.csv\")\n",
    "test=pd.read_csv(\"smhrd20210201 (1)/test.csv\")"
   ]
  },
  {
   "cell_type": "code",
   "execution_count": 4,
   "metadata": {},
   "outputs": [
    {
     "data": {
      "text/html": [
       "<div>\n",
       "<style scoped>\n",
       "    .dataframe tbody tr th:only-of-type {\n",
       "        vertical-align: middle;\n",
       "    }\n",
       "\n",
       "    .dataframe tbody tr th {\n",
       "        vertical-align: top;\n",
       "    }\n",
       "\n",
       "    .dataframe thead th {\n",
       "        text-align: right;\n",
       "    }\n",
       "</style>\n",
       "<table border=\"1\" class=\"dataframe\">\n",
       "  <thead>\n",
       "    <tr style=\"text-align: right;\">\n",
       "      <th></th>\n",
       "      <th>no</th>\n",
       "      <th>age</th>\n",
       "      <th>workclass</th>\n",
       "      <th>fnlwgt</th>\n",
       "      <th>education</th>\n",
       "      <th>education-num</th>\n",
       "      <th>marital-status</th>\n",
       "      <th>occupation</th>\n",
       "      <th>relationship</th>\n",
       "      <th>race</th>\n",
       "      <th>sex</th>\n",
       "      <th>capital-gain</th>\n",
       "      <th>capital-loss</th>\n",
       "      <th>hours-per-week</th>\n",
       "      <th>native-country</th>\n",
       "      <th>income</th>\n",
       "    </tr>\n",
       "  </thead>\n",
       "  <tbody>\n",
       "    <tr>\n",
       "      <th>0</th>\n",
       "      <td>1</td>\n",
       "      <td>25</td>\n",
       "      <td>Private</td>\n",
       "      <td>219199</td>\n",
       "      <td>11th</td>\n",
       "      <td>7</td>\n",
       "      <td>Divorced</td>\n",
       "      <td>Machine-op-inspct</td>\n",
       "      <td>Not-in-family</td>\n",
       "      <td>White</td>\n",
       "      <td>Male</td>\n",
       "      <td>0</td>\n",
       "      <td>0</td>\n",
       "      <td>40</td>\n",
       "      <td>United-States</td>\n",
       "      <td>0</td>\n",
       "    </tr>\n",
       "    <tr>\n",
       "      <th>1</th>\n",
       "      <td>2</td>\n",
       "      <td>39</td>\n",
       "      <td>Private</td>\n",
       "      <td>52978</td>\n",
       "      <td>Some-college</td>\n",
       "      <td>10</td>\n",
       "      <td>Divorced</td>\n",
       "      <td>Other-service</td>\n",
       "      <td>Not-in-family</td>\n",
       "      <td>White</td>\n",
       "      <td>Female</td>\n",
       "      <td>0</td>\n",
       "      <td>1721</td>\n",
       "      <td>55</td>\n",
       "      <td>United-States</td>\n",
       "      <td>0</td>\n",
       "    </tr>\n",
       "    <tr>\n",
       "      <th>2</th>\n",
       "      <td>3</td>\n",
       "      <td>35</td>\n",
       "      <td>Private</td>\n",
       "      <td>196899</td>\n",
       "      <td>Bachelors</td>\n",
       "      <td>13</td>\n",
       "      <td>Never-married</td>\n",
       "      <td>Handlers-cleaners</td>\n",
       "      <td>Not-in-family</td>\n",
       "      <td>Asian-Pac-Islander</td>\n",
       "      <td>Female</td>\n",
       "      <td>0</td>\n",
       "      <td>0</td>\n",
       "      <td>50</td>\n",
       "      <td>Haiti</td>\n",
       "      <td>0</td>\n",
       "    </tr>\n",
       "    <tr>\n",
       "      <th>3</th>\n",
       "      <td>4</td>\n",
       "      <td>64</td>\n",
       "      <td>Private</td>\n",
       "      <td>135527</td>\n",
       "      <td>Assoc-voc</td>\n",
       "      <td>11</td>\n",
       "      <td>Divorced</td>\n",
       "      <td>Tech-support</td>\n",
       "      <td>Not-in-family</td>\n",
       "      <td>White</td>\n",
       "      <td>Female</td>\n",
       "      <td>0</td>\n",
       "      <td>0</td>\n",
       "      <td>40</td>\n",
       "      <td>United-States</td>\n",
       "      <td>0</td>\n",
       "    </tr>\n",
       "    <tr>\n",
       "      <th>4</th>\n",
       "      <td>5</td>\n",
       "      <td>24</td>\n",
       "      <td>Private</td>\n",
       "      <td>60783</td>\n",
       "      <td>Some-college</td>\n",
       "      <td>10</td>\n",
       "      <td>Married-civ-spouse</td>\n",
       "      <td>Transport-moving</td>\n",
       "      <td>Husband</td>\n",
       "      <td>White</td>\n",
       "      <td>Male</td>\n",
       "      <td>0</td>\n",
       "      <td>0</td>\n",
       "      <td>70</td>\n",
       "      <td>United-States</td>\n",
       "      <td>1</td>\n",
       "    </tr>\n",
       "    <tr>\n",
       "      <th>...</th>\n",
       "      <td>...</td>\n",
       "      <td>...</td>\n",
       "      <td>...</td>\n",
       "      <td>...</td>\n",
       "      <td>...</td>\n",
       "      <td>...</td>\n",
       "      <td>...</td>\n",
       "      <td>...</td>\n",
       "      <td>...</td>\n",
       "      <td>...</td>\n",
       "      <td>...</td>\n",
       "      <td>...</td>\n",
       "      <td>...</td>\n",
       "      <td>...</td>\n",
       "      <td>...</td>\n",
       "      <td>...</td>\n",
       "    </tr>\n",
       "    <tr>\n",
       "      <th>29300</th>\n",
       "      <td>29301</td>\n",
       "      <td>20</td>\n",
       "      <td>Private</td>\n",
       "      <td>100605</td>\n",
       "      <td>HS-grad</td>\n",
       "      <td>9</td>\n",
       "      <td>Never-married</td>\n",
       "      <td>Sales</td>\n",
       "      <td>Own-child</td>\n",
       "      <td>Other</td>\n",
       "      <td>Male</td>\n",
       "      <td>0</td>\n",
       "      <td>0</td>\n",
       "      <td>40</td>\n",
       "      <td>Puerto-Rico</td>\n",
       "      <td>0</td>\n",
       "    </tr>\n",
       "    <tr>\n",
       "      <th>29301</th>\n",
       "      <td>29302</td>\n",
       "      <td>21</td>\n",
       "      <td>Private</td>\n",
       "      <td>372636</td>\n",
       "      <td>HS-grad</td>\n",
       "      <td>9</td>\n",
       "      <td>Never-married</td>\n",
       "      <td>Sales</td>\n",
       "      <td>Own-child</td>\n",
       "      <td>Black</td>\n",
       "      <td>Male</td>\n",
       "      <td>0</td>\n",
       "      <td>0</td>\n",
       "      <td>40</td>\n",
       "      <td>United-States</td>\n",
       "      <td>0</td>\n",
       "    </tr>\n",
       "    <tr>\n",
       "      <th>29302</th>\n",
       "      <td>29303</td>\n",
       "      <td>18</td>\n",
       "      <td>Self-emp-not-inc</td>\n",
       "      <td>258474</td>\n",
       "      <td>10th</td>\n",
       "      <td>6</td>\n",
       "      <td>Never-married</td>\n",
       "      <td>Farming-fishing</td>\n",
       "      <td>Own-child</td>\n",
       "      <td>White</td>\n",
       "      <td>Male</td>\n",
       "      <td>0</td>\n",
       "      <td>0</td>\n",
       "      <td>40</td>\n",
       "      <td>United-States</td>\n",
       "      <td>0</td>\n",
       "    </tr>\n",
       "    <tr>\n",
       "      <th>29303</th>\n",
       "      <td>29304</td>\n",
       "      <td>33</td>\n",
       "      <td>Private</td>\n",
       "      <td>157446</td>\n",
       "      <td>11th</td>\n",
       "      <td>7</td>\n",
       "      <td>Never-married</td>\n",
       "      <td>Craft-repair</td>\n",
       "      <td>Not-in-family</td>\n",
       "      <td>White</td>\n",
       "      <td>Male</td>\n",
       "      <td>0</td>\n",
       "      <td>0</td>\n",
       "      <td>65</td>\n",
       "      <td>United-States</td>\n",
       "      <td>0</td>\n",
       "    </tr>\n",
       "    <tr>\n",
       "      <th>29304</th>\n",
       "      <td>29305</td>\n",
       "      <td>65</td>\n",
       "      <td>?</td>\n",
       "      <td>94809</td>\n",
       "      <td>HS-grad</td>\n",
       "      <td>9</td>\n",
       "      <td>Widowed</td>\n",
       "      <td>?</td>\n",
       "      <td>Not-in-family</td>\n",
       "      <td>White</td>\n",
       "      <td>Female</td>\n",
       "      <td>0</td>\n",
       "      <td>0</td>\n",
       "      <td>40</td>\n",
       "      <td>United-States</td>\n",
       "      <td>0</td>\n",
       "    </tr>\n",
       "  </tbody>\n",
       "</table>\n",
       "<p>29305 rows × 16 columns</p>\n",
       "</div>"
      ],
      "text/plain": [
       "          no  age          workclass  fnlwgt      education  education-num  \\\n",
       "0          1   25            Private  219199           11th              7   \n",
       "1          2   39            Private   52978   Some-college             10   \n",
       "2          3   35            Private  196899      Bachelors             13   \n",
       "3          4   64            Private  135527      Assoc-voc             11   \n",
       "4          5   24            Private   60783   Some-college             10   \n",
       "...      ...  ...                ...     ...            ...            ...   \n",
       "29300  29301   20            Private  100605        HS-grad              9   \n",
       "29301  29302   21            Private  372636        HS-grad              9   \n",
       "29302  29303   18   Self-emp-not-inc  258474           10th              6   \n",
       "29303  29304   33            Private  157446           11th              7   \n",
       "29304  29305   65                  ?   94809        HS-grad              9   \n",
       "\n",
       "            marital-status          occupation    relationship  \\\n",
       "0                 Divorced   Machine-op-inspct   Not-in-family   \n",
       "1                 Divorced       Other-service   Not-in-family   \n",
       "2            Never-married   Handlers-cleaners   Not-in-family   \n",
       "3                 Divorced        Tech-support   Not-in-family   \n",
       "4       Married-civ-spouse    Transport-moving         Husband   \n",
       "...                    ...                 ...             ...   \n",
       "29300        Never-married               Sales       Own-child   \n",
       "29301        Never-married               Sales       Own-child   \n",
       "29302        Never-married     Farming-fishing       Own-child   \n",
       "29303        Never-married        Craft-repair   Not-in-family   \n",
       "29304              Widowed                   ?   Not-in-family   \n",
       "\n",
       "                      race      sex  capital-gain  capital-loss  \\\n",
       "0                    White     Male             0             0   \n",
       "1                    White   Female             0          1721   \n",
       "2       Asian-Pac-Islander   Female             0             0   \n",
       "3                    White   Female             0             0   \n",
       "4                    White     Male             0             0   \n",
       "...                    ...      ...           ...           ...   \n",
       "29300                Other     Male             0             0   \n",
       "29301                Black     Male             0             0   \n",
       "29302                White     Male             0             0   \n",
       "29303                White     Male             0             0   \n",
       "29304                White   Female             0             0   \n",
       "\n",
       "       hours-per-week  native-country  income  \n",
       "0                  40   United-States       0  \n",
       "1                  55   United-States       0  \n",
       "2                  50           Haiti       0  \n",
       "3                  40   United-States       0  \n",
       "4                  70   United-States       1  \n",
       "...               ...             ...     ...  \n",
       "29300              40     Puerto-Rico       0  \n",
       "29301              40   United-States       0  \n",
       "29302              40   United-States       0  \n",
       "29303              65   United-States       0  \n",
       "29304              40   United-States       0  \n",
       "\n",
       "[29305 rows x 16 columns]"
      ]
     },
     "metadata": {},
     "output_type": "display_data"
    }
   ],
   "source": [
    "display(train)"
   ]
  },
  {
   "cell_type": "code",
   "execution_count": 5,
   "metadata": {},
   "outputs": [
    {
     "name": "stdout",
     "output_type": "stream",
     "text": [
      "train data shape :  (29305, 16)\n",
      "test data shape :  (19537, 15)\n",
      "----------[train infomation]----------\n",
      "<class 'pandas.core.frame.DataFrame'>\n",
      "RangeIndex: 29305 entries, 0 to 29304\n",
      "Data columns (total 16 columns):\n",
      " #   Column          Non-Null Count  Dtype \n",
      "---  ------          --------------  ----- \n",
      " 0   no              29305 non-null  int64 \n",
      " 1   age             29305 non-null  int64 \n",
      " 2   workclass       29305 non-null  object\n",
      " 3   fnlwgt          29305 non-null  int64 \n",
      " 4   education       29305 non-null  object\n",
      " 5   education-num   29305 non-null  int64 \n",
      " 6   marital-status  29305 non-null  object\n",
      " 7   occupation      29305 non-null  object\n",
      " 8   relationship    29305 non-null  object\n",
      " 9   race            29305 non-null  object\n",
      " 10  sex             29305 non-null  object\n",
      " 11  capital-gain    29305 non-null  int64 \n",
      " 12  capital-loss    29305 non-null  int64 \n",
      " 13  hours-per-week  29305 non-null  int64 \n",
      " 14  native-country  29305 non-null  object\n",
      " 15  income          29305 non-null  int64 \n",
      "dtypes: int64(8), object(8)\n",
      "memory usage: 3.6+ MB\n",
      "None\n",
      "----------[test infomation]----------\n",
      "<class 'pandas.core.frame.DataFrame'>\n",
      "RangeIndex: 19537 entries, 0 to 19536\n",
      "Data columns (total 15 columns):\n",
      " #   Column          Non-Null Count  Dtype \n",
      "---  ------          --------------  ----- \n",
      " 0   no              19537 non-null  int64 \n",
      " 1   age             19537 non-null  int64 \n",
      " 2   workclass       19537 non-null  object\n",
      " 3   fnlwgt          19537 non-null  int64 \n",
      " 4   education       19537 non-null  object\n",
      " 5   education-num   19537 non-null  int64 \n",
      " 6   marital-status  19537 non-null  object\n",
      " 7   occupation      19537 non-null  object\n",
      " 8   relationship    19537 non-null  object\n",
      " 9   race            19537 non-null  object\n",
      " 10  sex             19537 non-null  object\n",
      " 11  capital-gain    19537 non-null  int64 \n",
      " 12  capital-loss    19537 non-null  int64 \n",
      " 13  hours-per-week  19537 non-null  int64 \n",
      " 14  native-country  19537 non-null  object\n",
      "dtypes: int64(7), object(8)\n",
      "memory usage: 2.2+ MB\n",
      "None\n"
     ]
    }
   ],
   "source": [
    "print('train data shape : ', train.shape)\n",
    "print('test data shape : ', test.shape)\n",
    "print('----------[train infomation]----------')\n",
    "print(train.info())\n",
    "print('----------[test infomation]----------')\n",
    "print(test.info())"
   ]
  },
  {
   "cell_type": "code",
   "execution_count": 6,
   "metadata": {},
   "outputs": [
    {
     "name": "stdout",
     "output_type": "stream",
     "text": [
      "0    22260\n",
      "1     7045\n",
      "Name: income, dtype: int64\n",
      "\n",
      "----------[train infomation]----------\n",
      "                 no           age        fnlwgt  education-num  capital-gain  \\\n",
      "count  29305.000000  29305.000000  2.930500e+04   29305.000000  29305.000000   \n",
      "mean   14653.000000     38.659171  1.897357e+05      10.083057   1084.531786   \n",
      "std     8459.769156     13.743827  1.056348e+05       2.570371   7495.715677   \n",
      "min        1.000000     17.000000  1.376900e+04       1.000000      0.000000   \n",
      "25%     7327.000000     28.000000  1.176060e+05       9.000000      0.000000   \n",
      "50%    14653.000000     37.000000  1.779550e+05      10.000000      0.000000   \n",
      "75%    21979.000000     48.000000  2.377130e+05      12.000000      0.000000   \n",
      "max    29305.000000     90.000000  1.490400e+06      16.000000  99999.000000   \n",
      "\n",
      "       capital-loss  hours-per-week        income  \n",
      "count  29305.000000    29305.000000  29305.000000  \n",
      "mean      87.073571       40.440096      0.240403  \n",
      "std      401.225580       12.332840      0.427335  \n",
      "min        0.000000        1.000000      0.000000  \n",
      "25%        0.000000       40.000000      0.000000  \n",
      "50%        0.000000       40.000000      0.000000  \n",
      "75%        0.000000       45.000000      0.000000  \n",
      "max     4356.000000       99.000000      1.000000  \n",
      "----------[test infomation]----------\n",
      "                no           age        fnlwgt  education-num  capital-gain  \\\n",
      "count  19537.00000  19537.000000  1.953700e+04   19537.000000  19537.000000   \n",
      "mean   39074.00000     38.620208  1.895568e+05      10.070635   1070.871526   \n",
      "std     5639.99044     13.660701  1.055605e+05       2.571923   7386.174276   \n",
      "min    29306.00000     17.000000  1.228500e+04       1.000000      0.000000   \n",
      "25%    34190.00000     28.000000  1.174770e+05       9.000000      0.000000   \n",
      "50%    39074.00000     37.000000  1.783190e+05      10.000000      0.000000   \n",
      "75%    43958.00000     48.000000  2.375460e+05      12.000000      0.000000   \n",
      "max    48842.00000     90.000000  1.484705e+06      16.000000  99999.000000   \n",
      "\n",
      "       capital-loss  hours-per-week  \n",
      "count  19537.000000    19537.000000  \n",
      "mean      88.145416       40.395813  \n",
      "std      405.667779       12.479102  \n",
      "min        0.000000        1.000000  \n",
      "25%        0.000000       40.000000  \n",
      "50%        0.000000       40.000000  \n",
      "75%        0.000000       45.000000  \n",
      "max     3900.000000       99.000000  \n"
     ]
    }
   ],
   "source": [
    "print(train[\"income\"].value_counts())\n",
    "print()\n",
    "print('----------[train infomation]----------')\n",
    "print(train.describe())\n",
    "print('----------[test infomation]----------')\n",
    "print(test.describe())"
   ]
  },
  {
   "cell_type": "code",
   "execution_count": 7,
   "metadata": {},
   "outputs": [
    {
     "data": {
      "text/plain": [
       "Index(['no', 'age', 'workclass', 'fnlwgt', 'education', 'education-num',\n",
       "       'marital-status', 'occupation', 'relationship', 'race', 'sex',\n",
       "       'capital-gain', 'capital-loss', 'hours-per-week', 'native-country',\n",
       "       'income'],\n",
       "      dtype='object')"
      ]
     },
     "execution_count": 7,
     "metadata": {},
     "output_type": "execute_result"
    }
   ],
   "source": [
    "train.columns"
   ]
  },
  {
   "cell_type": "code",
   "execution_count": 8,
   "metadata": {},
   "outputs": [],
   "source": [
    "from sklearn.neighbors import KNeighborsClassifier\n",
    "from sklearn.tree import DecisionTreeClassifier"
   ]
  },
  {
   "cell_type": "code",
   "execution_count": 9,
   "metadata": {},
   "outputs": [],
   "source": []
  },
  {
   "cell_type": "markdown",
   "metadata": {},
   "source": [
    "### 학습"
   ]
  },
  {
   "cell_type": "code",
   "execution_count": 10,
   "metadata": {},
   "outputs": [],
   "source": [
    "#전처리"
   ]
  },
  {
   "cell_type": "code",
   "execution_count": 11,
   "metadata": {},
   "outputs": [
    {
     "data": {
      "text/plain": [
       "<matplotlib.axes._subplots.AxesSubplot at 0x11d7b5a44f0>"
      ]
     },
     "execution_count": 11,
     "metadata": {},
     "output_type": "execute_result"
    },
    {
     "data": {
      "image/png": "[encoded data removed]",
      "text/plain": [
       "<Figure size 432x288 with 1 Axes>"
      ]
     },
     "metadata": {},
     "output_type": "display_data"
    }
   ],
   "source": [
    "sns.kdeplot(train[\"hours-per-week\"])"
   ]
  },
  {
   "cell_type": "code",
   "execution_count": 12,
   "metadata": {},
   "outputs": [
    {
     "data": {
      "text/plain": [
       "<matplotlib.axes._subplots.AxesSubplot at 0x11d7b60acd0>"
      ]
     },
     "execution_count": 12,
     "metadata": {},
     "output_type": "execute_result"
    },
    {
     "data": {
      "image/png": "[encoded data removed]",
      "text/plain": [
       "<Figure size 432x288 with 1 Axes>"
      ]
     },
     "metadata": {},
     "output_type": "display_data"
    }
   ],
   "source": [
    "sns.kdeplot(train[\"education-num\"])"
   ]
  },
  {
   "cell_type": "code",
   "execution_count": 13,
   "metadata": {},
   "outputs": [
    {
     "data": {
      "text/plain": [
       "<matplotlib.axes._subplots.AxesSubplot at 0x11d7b6ead30>"
      ]
     },
     "execution_count": 13,
     "metadata": {},
     "output_type": "execute_result"
    },
    {
     "data": {
      "image/png": "[encoded data removed]",
      "text/plain": [
       "<Figure size 432x288 with 1 Axes>"
      ]
     },
     "metadata": {},
     "output_type": "display_data"
    }
   ],
   "source": [
    "train[\"capital-gain\"].plot(kind=\"hist\", bins=100)"
   ]
  },
  {
   "cell_type": "code",
   "execution_count": 14,
   "metadata": {},
   "outputs": [
    {
     "data": {
      "text/plain": [
       "count    29305.000000\n",
       "mean        40.440096\n",
       "std         12.332840\n",
       "min          1.000000\n",
       "25%         40.000000\n",
       "50%         40.000000\n",
       "75%         45.000000\n",
       "max         99.000000\n",
       "Name: hours-per-week, dtype: float64"
      ]
     },
     "metadata": {},
     "output_type": "display_data"
    },
    {
     "data": {
      "text/plain": [
       "count    29305.000000\n",
       "mean        10.083057\n",
       "std          2.570371\n",
       "min          1.000000\n",
       "25%          9.000000\n",
       "50%         10.000000\n",
       "75%         12.000000\n",
       "max         16.000000\n",
       "Name: education-num, dtype: float64"
      ]
     },
     "metadata": {},
     "output_type": "display_data"
    },
    {
     "data": {
      "text/plain": [
       "count    29305.000000\n",
       "mean      1084.531786\n",
       "std       7495.715677\n",
       "min          0.000000\n",
       "25%          0.000000\n",
       "50%          0.000000\n",
       "75%          0.000000\n",
       "max      99999.000000\n",
       "Name: capital-gain, dtype: float64"
      ]
     },
     "metadata": {},
     "output_type": "display_data"
    },
    {
     "data": {
      "text/plain": [
       "count               29305\n",
       "unique                 15\n",
       "top        Prof-specialty\n",
       "freq                 3724\n",
       "Name: occupation, dtype: object"
      ]
     },
     "metadata": {},
     "output_type": "display_data"
    }
   ],
   "source": [
    "display(train[\"hours-per-week\"].describe())\n",
    "display(train[\"education-num\"].describe())\n",
    "display(train[\"capital-gain\"].describe())\n",
    "display(train[\"occupation\"].describe())"
   ]
  },
  {
   "cell_type": "code",
   "execution_count": 15,
   "metadata": {
    "scrolled": true
   },
   "outputs": [
    {
     "data": {
      "text/html": [
       "<style  type=\"text/css\" >\n",
       "    #T_03eecf4e_6b4b_11eb_ac9d_049226d9162erow0_col0 {\n",
       "            background-color:  #ffff66;\n",
       "            color:  #000000;\n",
       "        }    #T_03eecf4e_6b4b_11eb_ac9d_049226d9162erow1_col0 {\n",
       "            background-color:  #4aa466;\n",
       "            color:  #000000;\n",
       "        }    #T_03eecf4e_6b4b_11eb_ac9d_049226d9162erow2_col0 {\n",
       "            background-color:  #3f9f66;\n",
       "            color:  #000000;\n",
       "        }    #T_03eecf4e_6b4b_11eb_ac9d_049226d9162erow3_col0 {\n",
       "            background-color:  #168a66;\n",
       "            color:  #000000;\n",
       "        }    #T_03eecf4e_6b4b_11eb_ac9d_049226d9162erow4_col0 {\n",
       "            background-color:  #008066;\n",
       "            color:  #f1f1f1;\n",
       "        }</style><table id=\"T_03eecf4e_6b4b_11eb_ac9d_049226d9162e\" ><thead>    <tr>        <th class=\"blank level0\" ></th>        <th class=\"col_heading level0 col0\" >hours-per-week_cut</th>    </tr></thead><tbody>\n",
       "                <tr>\n",
       "                        <th id=\"T_03eecf4e_6b4b_11eb_ac9d_049226d9162elevel0_row0\" class=\"row_heading level0 row0\" >B</th>\n",
       "                        <td id=\"T_03eecf4e_6b4b_11eb_ac9d_049226d9162erow0_col0\" class=\"data row0 col0\" >15948</td>\n",
       "            </tr>\n",
       "            <tr>\n",
       "                        <th id=\"T_03eecf4e_6b4b_11eb_ac9d_049226d9162elevel0_row1\" class=\"row_heading level0 row1\" >C</th>\n",
       "                        <td id=\"T_03eecf4e_6b4b_11eb_ac9d_049226d9162erow1_col0\" class=\"data row1 col0\" >5360</td>\n",
       "            </tr>\n",
       "            <tr>\n",
       "                        <th id=\"T_03eecf4e_6b4b_11eb_ac9d_049226d9162elevel0_row2\" class=\"row_heading level0 row2\" >A</th>\n",
       "                        <td id=\"T_03eecf4e_6b4b_11eb_ac9d_049226d9162erow2_col0\" class=\"data row2 col0\" >4703</td>\n",
       "            </tr>\n",
       "            <tr>\n",
       "                        <th id=\"T_03eecf4e_6b4b_11eb_ac9d_049226d9162elevel0_row3\" class=\"row_heading level0 row3\" >D</th>\n",
       "                        <td id=\"T_03eecf4e_6b4b_11eb_ac9d_049226d9162erow3_col0\" class=\"data row3 col0\" >2292</td>\n",
       "            </tr>\n",
       "            <tr>\n",
       "                        <th id=\"T_03eecf4e_6b4b_11eb_ac9d_049226d9162elevel0_row4\" class=\"row_heading level0 row4\" >E</th>\n",
       "                        <td id=\"T_03eecf4e_6b4b_11eb_ac9d_049226d9162erow4_col0\" class=\"data row4 col0\" >1002</td>\n",
       "            </tr>\n",
       "    </tbody></table>"
      ],
      "text/plain": [
       "<pandas.io.formats.style.Styler at 0x11d7b7a1850>"
      ]
     },
     "metadata": {},
     "output_type": "display_data"
    },
    {
     "data": {
      "text/html": [
       "<style  type=\"text/css\" >\n",
       "    #T_03f07bd7_6b4b_11eb_a668_049226d9162erow0_col0 {\n",
       "            background-color:  #ffff66;\n",
       "            color:  #000000;\n",
       "        }    #T_03f07bd7_6b4b_11eb_a668_049226d9162erow1_col0 {\n",
       "            background-color:  #49a466;\n",
       "            color:  #000000;\n",
       "        }    #T_03f07bd7_6b4b_11eb_a668_049226d9162erow2_col0 {\n",
       "            background-color:  #3f9f66;\n",
       "            color:  #000000;\n",
       "        }    #T_03f07bd7_6b4b_11eb_a668_049226d9162erow3_col0 {\n",
       "            background-color:  #148a66;\n",
       "            color:  #000000;\n",
       "        }    #T_03f07bd7_6b4b_11eb_a668_049226d9162erow4_col0 {\n",
       "            background-color:  #008066;\n",
       "            color:  #f1f1f1;\n",
       "        }</style><table id=\"T_03f07bd7_6b4b_11eb_a668_049226d9162e\" ><thead>    <tr>        <th class=\"blank level0\" ></th>        <th class=\"col_heading level0 col0\" >hours-per-week_cut</th>    </tr></thead><tbody>\n",
       "                <tr>\n",
       "                        <th id=\"T_03f07bd7_6b4b_11eb_a668_049226d9162elevel0_row0\" class=\"row_heading level0 row0\" >B</th>\n",
       "                        <td id=\"T_03f07bd7_6b4b_11eb_a668_049226d9162erow0_col0\" class=\"data row0 col0\" >10691</td>\n",
       "            </tr>\n",
       "            <tr>\n",
       "                        <th id=\"T_03f07bd7_6b4b_11eb_a668_049226d9162elevel0_row1\" class=\"row_heading level0 row1\" >C</th>\n",
       "                        <td id=\"T_03f07bd7_6b4b_11eb_a668_049226d9162erow1_col0\" class=\"data row1 col0\" >3557</td>\n",
       "            </tr>\n",
       "            <tr>\n",
       "                        <th id=\"T_03f07bd7_6b4b_11eb_a668_049226d9162elevel0_row2\" class=\"row_heading level0 row2\" >A</th>\n",
       "                        <td id=\"T_03f07bd7_6b4b_11eb_a668_049226d9162erow2_col0\" class=\"data row2 col0\" >3148</td>\n",
       "            </tr>\n",
       "            <tr>\n",
       "                        <th id=\"T_03f07bd7_6b4b_11eb_a668_049226d9162elevel0_row3\" class=\"row_heading level0 row3\" >D</th>\n",
       "                        <td id=\"T_03f07bd7_6b4b_11eb_a668_049226d9162erow3_col0\" class=\"data row3 col0\" >1467</td>\n",
       "            </tr>\n",
       "            <tr>\n",
       "                        <th id=\"T_03f07bd7_6b4b_11eb_a668_049226d9162elevel0_row4\" class=\"row_heading level0 row4\" >E</th>\n",
       "                        <td id=\"T_03f07bd7_6b4b_11eb_a668_049226d9162erow4_col0\" class=\"data row4 col0\" >674</td>\n",
       "            </tr>\n",
       "    </tbody></table>"
      ],
      "text/plain": [
       "<pandas.io.formats.style.Styler at 0x11d7ae460d0>"
      ]
     },
     "metadata": {},
     "output_type": "display_data"
    }
   ],
   "source": [
    "train[\"hours-per-week_cut\"]=pd.cut(train[\"hours-per-week\"], bins=[0,30,40,50,60,100],labels=[\"A\",\"B\",\"C\",\"D\",\"E\"])\n",
    "display(train[\"hours-per-week_cut\"].value_counts().to_frame().style.background_gradient(cmap=\"summer\"))\n",
    "test[\"hours-per-week_cut\"]=pd.cut(test[\"hours-per-week\"], bins=[0,30,40,50,60,100],labels=[\"A\",\"B\",\"C\",\"D\",\"E\"])\n",
    "display(test[\"hours-per-week_cut\"].value_counts().to_frame().style.background_gradient(cmap=\"summer\"))"
   ]
  },
  {
   "cell_type": "code",
   "execution_count": 61,
   "metadata": {},
   "outputs": [
    {
     "data": {
      "text/html": [
       "<style  type=\"text/css\" >\n",
       "    #T_c501d76b_6b8c_11eb_9e07_049226d9162erow0_col0 {\n",
       "            background-color:  #ffff66;\n",
       "            color:  #000000;\n",
       "        }    #T_c501d76b_6b8c_11eb_9e07_049226d9162erow1_col0 {\n",
       "            background-color:  #d5ea66;\n",
       "            color:  #000000;\n",
       "        }    #T_c501d76b_6b8c_11eb_9e07_049226d9162erow2_col0 {\n",
       "            background-color:  #99cc66;\n",
       "            color:  #000000;\n",
       "        }    #T_c501d76b_6b8c_11eb_9e07_049226d9162erow3_col0 {\n",
       "            background-color:  #008066;\n",
       "            color:  #f1f1f1;\n",
       "        }</style><table id=\"T_c501d76b_6b8c_11eb_9e07_049226d9162e\" ><thead>    <tr>        <th class=\"blank level0\" ></th>        <th class=\"col_heading level0 col0\" >education_num_cut</th>    </tr></thead><tbody>\n",
       "                <tr>\n",
       "                        <th id=\"T_c501d76b_6b8c_11eb_9e07_049226d9162elevel0_row0\" class=\"row_heading level0 row0\" >B</th>\n",
       "                        <td id=\"T_c501d76b_6b8c_11eb_9e07_049226d9162erow0_col0\" class=\"data row0 col0\" >9850</td>\n",
       "            </tr>\n",
       "            <tr>\n",
       "                        <th id=\"T_c501d76b_6b8c_11eb_9e07_049226d9162elevel0_row1\" class=\"row_heading level0 row1\" >C</th>\n",
       "                        <td id=\"T_c501d76b_6b8c_11eb_9e07_049226d9162erow1_col0\" class=\"data row1 col0\" >8768</td>\n",
       "            </tr>\n",
       "            <tr>\n",
       "                        <th id=\"T_c501d76b_6b8c_11eb_9e07_049226d9162elevel0_row2\" class=\"row_heading level0 row2\" >D</th>\n",
       "                        <td id=\"T_c501d76b_6b8c_11eb_9e07_049226d9162erow2_col0\" class=\"data row2 col0\" >7282</td>\n",
       "            </tr>\n",
       "            <tr>\n",
       "                        <th id=\"T_c501d76b_6b8c_11eb_9e07_049226d9162elevel0_row3\" class=\"row_heading level0 row3\" >A</th>\n",
       "                        <td id=\"T_c501d76b_6b8c_11eb_9e07_049226d9162erow3_col0\" class=\"data row3 col0\" >3405</td>\n",
       "            </tr>\n",
       "    </tbody></table>"
      ],
      "text/plain": [
       "<pandas.io.formats.style.Styler at 0x11d7b036a30>"
      ]
     },
     "metadata": {},
     "output_type": "display_data"
    },
    {
     "data": {
      "text/html": [
       "<style  type=\"text/css\" >\n",
       "    #T_c5035e0c_6b8c_11eb_8ade_049226d9162erow0_col0 {\n",
       "            background-color:  #ffff66;\n",
       "            color:  #000000;\n",
       "        }    #T_c5035e0c_6b8c_11eb_8ade_049226d9162erow1_col0 {\n",
       "            background-color:  #cee666;\n",
       "            color:  #000000;\n",
       "        }    #T_c5035e0c_6b8c_11eb_8ade_049226d9162erow2_col0 {\n",
       "            background-color:  #95ca66;\n",
       "            color:  #000000;\n",
       "        }    #T_c5035e0c_6b8c_11eb_8ade_049226d9162erow3_col0 {\n",
       "            background-color:  #008066;\n",
       "            color:  #f1f1f1;\n",
       "        }</style><table id=\"T_c5035e0c_6b8c_11eb_8ade_049226d9162e\" ><thead>    <tr>        <th class=\"blank level0\" ></th>        <th class=\"col_heading level0 col0\" >education_num_cut</th>    </tr></thead><tbody>\n",
       "                <tr>\n",
       "                        <th id=\"T_c5035e0c_6b8c_11eb_8ade_049226d9162elevel0_row0\" class=\"row_heading level0 row0\" >B</th>\n",
       "                        <td id=\"T_c5035e0c_6b8c_11eb_8ade_049226d9162erow0_col0\" class=\"data row0 col0\" >6591</td>\n",
       "            </tr>\n",
       "            <tr>\n",
       "                        <th id=\"T_c5035e0c_6b8c_11eb_8ade_049226d9162elevel0_row1\" class=\"row_heading level0 row1\" >C</th>\n",
       "                        <td id=\"T_c5035e0c_6b8c_11eb_8ade_049226d9162erow1_col0\" class=\"data row1 col0\" >5772</td>\n",
       "            </tr>\n",
       "            <tr>\n",
       "                        <th id=\"T_c5035e0c_6b8c_11eb_8ade_049226d9162elevel0_row2\" class=\"row_heading level0 row2\" >D</th>\n",
       "                        <td id=\"T_c5035e0c_6b8c_11eb_8ade_049226d9162erow2_col0\" class=\"data row2 col0\" >4828</td>\n",
       "            </tr>\n",
       "            <tr>\n",
       "                        <th id=\"T_c5035e0c_6b8c_11eb_8ade_049226d9162elevel0_row3\" class=\"row_heading level0 row3\" >A</th>\n",
       "                        <td id=\"T_c5035e0c_6b8c_11eb_8ade_049226d9162erow3_col0\" class=\"data row3 col0\" >2346</td>\n",
       "            </tr>\n",
       "    </tbody></table>"
      ],
      "text/plain": [
       "<pandas.io.formats.style.Styler at 0x11d7b0b88b0>"
      ]
     },
     "metadata": {},
     "output_type": "display_data"
    }
   ],
   "source": [
    "train[\"education_num_cut\"]=pd.cut(train[\"education-num\"], bins=[0,7,9,12,17],labels=[\"A\",\"B\",\"C\",\"D\"])\n",
    "display(train[\"education_num_cut\"].value_counts().to_frame().style.background_gradient(cmap=\"summer\"))\n",
    "test[\"education_num_cut\"]=pd.cut(test[\"education-num\"], bins=[0,7,9,12,17],labels=[\"A\",\"B\",\"C\",\"D\"])\n",
    "display(test[\"education_num_cut\"].value_counts().to_frame().style.background_gradient(cmap=\"summer\"))"
   ]
  },
  {
   "cell_type": "code",
   "execution_count": 69,
   "metadata": {},
   "outputs": [
    {
     "data": {
      "text/html": [
       "<style  type=\"text/css\" >\n",
       "    #T_9b912a59_6b8d_11eb_a290_049226d9162erow0_col0 {\n",
       "            background-color:  #ffff66;\n",
       "            color:  #000000;\n",
       "        }    #T_9b912a59_6b8d_11eb_a290_049226d9162erow1_col0 {\n",
       "            background-color:  #62b066;\n",
       "            color:  #000000;\n",
       "        }    #T_9b912a59_6b8d_11eb_a290_049226d9162erow2_col0 {\n",
       "            background-color:  #239166;\n",
       "            color:  #000000;\n",
       "        }    #T_9b912a59_6b8d_11eb_a290_049226d9162erow3_col0 {\n",
       "            background-color:  #008066;\n",
       "            color:  #f1f1f1;\n",
       "        }</style><table id=\"T_9b912a59_6b8d_11eb_a290_049226d9162e\" ><thead>    <tr>        <th class=\"blank level0\" ></th>        <th class=\"col_heading level0 col0\" >age_cut</th>    </tr></thead><tbody>\n",
       "                <tr>\n",
       "                        <th id=\"T_9b912a59_6b8d_11eb_a290_049226d9162elevel0_row0\" class=\"row_heading level0 row0\" >A</th>\n",
       "                        <td id=\"T_9b912a59_6b8d_11eb_a290_049226d9162erow0_col0\" class=\"data row0 col0\" >7948</td>\n",
       "            </tr>\n",
       "            <tr>\n",
       "                        <th id=\"T_9b912a59_6b8d_11eb_a290_049226d9162elevel0_row1\" class=\"row_heading level0 row1\" >C</th>\n",
       "                        <td id=\"T_9b912a59_6b8d_11eb_a290_049226d9162erow1_col0\" class=\"data row1 col0\" >7330</td>\n",
       "            </tr>\n",
       "            <tr>\n",
       "                        <th id=\"T_9b912a59_6b8d_11eb_a290_049226d9162elevel0_row2\" class=\"row_heading level0 row2\" >B</th>\n",
       "                        <td id=\"T_9b912a59_6b8d_11eb_a290_049226d9162erow2_col0\" class=\"data row2 col0\" >7084</td>\n",
       "            </tr>\n",
       "            <tr>\n",
       "                        <th id=\"T_9b912a59_6b8d_11eb_a290_049226d9162elevel0_row3\" class=\"row_heading level0 row3\" >D</th>\n",
       "                        <td id=\"T_9b912a59_6b8d_11eb_a290_049226d9162erow3_col0\" class=\"data row3 col0\" >6943</td>\n",
       "            </tr>\n",
       "    </tbody></table>"
      ],
      "text/plain": [
       "<pandas.io.formats.style.Styler at 0x11d7b6bd5e0>"
      ]
     },
     "metadata": {},
     "output_type": "display_data"
    },
    {
     "data": {
      "text/html": [
       "<style  type=\"text/css\" >\n",
       "    #T_9b92d6f8_6b8d_11eb_9bd5_049226d9162erow0_col0 {\n",
       "            background-color:  #ffff66;\n",
       "            color:  #000000;\n",
       "        }    #T_9b92d6f8_6b8d_11eb_9bd5_049226d9162erow1_col0 {\n",
       "            background-color:  #92c866;\n",
       "            color:  #000000;\n",
       "        }    #T_9b92d6f8_6b8d_11eb_9bd5_049226d9162erow2_col0 {\n",
       "            background-color:  #068266;\n",
       "            color:  #f1f1f1;\n",
       "        }    #T_9b92d6f8_6b8d_11eb_9bd5_049226d9162erow3_col0 {\n",
       "            background-color:  #008066;\n",
       "            color:  #f1f1f1;\n",
       "        }</style><table id=\"T_9b92d6f8_6b8d_11eb_9bd5_049226d9162e\" ><thead>    <tr>        <th class=\"blank level0\" ></th>        <th class=\"col_heading level0 col0\" >age_cut</th>    </tr></thead><tbody>\n",
       "                <tr>\n",
       "                        <th id=\"T_9b92d6f8_6b8d_11eb_9bd5_049226d9162elevel0_row0\" class=\"row_heading level0 row0\" >A</th>\n",
       "                        <td id=\"T_9b92d6f8_6b8d_11eb_9bd5_049226d9162erow0_col0\" class=\"data row0 col0\" >5344</td>\n",
       "            </tr>\n",
       "            <tr>\n",
       "                        <th id=\"T_9b92d6f8_6b8d_11eb_9bd5_049226d9162elevel0_row1\" class=\"row_heading level0 row1\" >C</th>\n",
       "                        <td id=\"T_9b92d6f8_6b8d_11eb_9bd5_049226d9162erow1_col0\" class=\"data row1 col0\" >5017</td>\n",
       "            </tr>\n",
       "            <tr>\n",
       "                        <th id=\"T_9b92d6f8_6b8d_11eb_9bd5_049226d9162elevel0_row2\" class=\"row_heading level0 row2\" >B</th>\n",
       "                        <td id=\"T_9b92d6f8_6b8d_11eb_9bd5_049226d9162erow2_col0\" class=\"data row2 col0\" >4598</td>\n",
       "            </tr>\n",
       "            <tr>\n",
       "                        <th id=\"T_9b92d6f8_6b8d_11eb_9bd5_049226d9162elevel0_row3\" class=\"row_heading level0 row3\" >D</th>\n",
       "                        <td id=\"T_9b92d6f8_6b8d_11eb_9bd5_049226d9162erow3_col0\" class=\"data row3 col0\" >4578</td>\n",
       "            </tr>\n",
       "    </tbody></table>"
      ],
      "text/plain": [
       "<pandas.io.formats.style.Styler at 0x11d7b0434c0>"
      ]
     },
     "metadata": {},
     "output_type": "display_data"
    }
   ],
   "source": [
    "train[\"age_cut\"]=pd.cut(train[\"age\"], bins=[16,28,37,48,100],labels=[\"A\",\"B\",\"C\",\"D\"])\n",
    "display(train[\"age_cut\"].value_counts().to_frame().style.background_gradient(cmap=\"summer\"))\n",
    "test[\"age_cut\"]=pd.cut(test[\"age\"], bins=[16,28,37,48,100],labels=[\"A\",\"B\",\"C\",\"D\"])\n",
    "display(test[\"age_cut\"].value_counts().to_frame().style.background_gradient(cmap=\"summer\"))"
   ]
  },
  {
   "cell_type": "code",
   "execution_count": null,
   "metadata": {},
   "outputs": [],
   "source": []
  },
  {
   "cell_type": "code",
   "execution_count": null,
   "metadata": {},
   "outputs": [],
   "source": []
  },
  {
   "cell_type": "code",
   "execution_count": 104,
   "metadata": {},
   "outputs": [],
   "source": [
    "#인코딩\n",
    "# mapping 작업시 참고할 딕셔너리 생성\n",
    "sex_dic={\" Male\":0, \" Female\":1}\n",
    "education_dic={\" Bachelors\":0, \" Some-college\":1,\" 11th\":2 ,\n",
    "               \" HS-grad\":3,\" Prof-school\":4,\n",
    "               \" Assoc-acdm\":5,\" Assoc-voc\":6,\n",
    "               \" 9th\":7,\" 7th-8th\":8,\n",
    "               \" 12th\":9,\" Masters\":10,\n",
    "              \" 1st-4th\":11, \" 10th\":12,\n",
    "              \" Doctorate\":13, \" 5th-6th\":14, \" Preschool\":15}\n",
    "# education 안하는게 나을지도\n",
    "race_dic={\" White\":0, \" Asian-Pac-Islander\":1, \" Amer-Indian-Eskimo\":2, \n",
    "         \" Other\":3, \" Black\":4}\n",
    "hours_per_week_cut_dic={\"A\":0, \"B\":1, \"C\":2, \"D\":3, \"E\":4}\n",
    "education_num_cut_dic={\"A\":0, \"B\":1, \"C\":2, \"D\":3}\n",
    "marital_status_dic={\" Married-civ-spouse\":0, \" Divorced\":1,\" Never-married\":3, \" Separated\":1, \" Widowed\":1,\n",
    "                   \" Married-spouse-absent\":0,\" Married-AF-spouse\":0 }\n",
    "# 결혼 0, 혼자 1, 경험 없음 3\n",
    "workclass_dic={\" Private\":0, \" Self-emp-not-inc\":0,\" Self-emp-inc\":0,\" Federal-gov\":0\n",
    "              , \" Local-gov\":0,\" State-gov\":0,\" Without-pay\":1, \" Never-worked\":1 ,\" ?\":1 }\n",
    "# 돈 벌고 못벌고 0,1\n",
    "occupation_dic={\" Tech-support\":0, \" Craft-repair\":1,\" Other-service\":2, \" Sales\":3,\n",
    "             \" Exec-managerial\":4, \" Prof-specialty\":5,  \" Handlers-cleaners\":6, \n",
    "             \" Machine-op-inspct\":7, \" Adm-clerical\":8,  \" Farming-fishing\":9,\n",
    "        \" Transport-moving\":10,\" Priv-house-serv\":11, \" Protective-serv\":12,  \" Armed-Forces\":13   ,\" ?\":14    }\n",
    "relationship_dic={\" Wife\":0, \" Own-child\":1, \" Husband\":2,\" Not-in-family\":3 , \" Other-relative\":4, \" Unmarried\":5}\n",
    "\n",
    "native_country_dic={\" United-States\":4, \" Cambodia\":0, \" England\":1, \" Puerto-Rico\":4,\n",
    "                \" Canada\":4 , \" Germany\":1, \" Outlying-US(Guam-USVI-etc)\":4, \" India\":0, \" Japan\":0,\n",
    "                  \" Greece\":1,\" South\":0, \" China\":0,\" Cuba\":4, \" Iran\":5 , \" Honduras\":4, \" Philippines\":0,\n",
    "                  \" Italy\":1,  \" Poland\":1 ,\" Jamaica\":4,\" Vietnam\":0,\" Mexico\":4,\n",
    "                  \" Portugal\":1,\" Ireland\":1,\" France\":1 ,\" Dominican-Republic\":4, \" Laos\":0,\n",
    "                   \" Ecuador\":3, \" Taiwan\":0 ,\" Haiti\":4 ,\" Columbia\":3, \" Hungary\":1,\n",
    "                 \" Guatemala\":4, \" Nicaragua\":4, \" Scotland\":1, \" Thailand\":0, \" Yugoslavia\":1,\n",
    "                   \" El-Salvador\":4,\" Trinadad&Tobago\":1,  \" Peru\":3,  \" Hong\":0,\" Holand-Netherlands\":1, \" ?\":6}\n",
    "# 대륙별로\n",
    "age_cut_dic={\"A\":0,\"B\":1,\"C\":2,\"D\":3 \n",
    "}\n",
    "\n",
    "\n",
    "\n",
    "\n"
   ]
  },
  {
   "cell_type": "code",
   "execution_count": 105,
   "metadata": {},
   "outputs": [],
   "source": [
    "train[\"encoding_sex\"]=train[\"sex\"].map(sex_dic)\n",
    "train[\"encoding_education\"]=train[\"education\"].map(education_dic)\n",
    "train[\"encoding_hours-per-week\"]=train[\"hours-per-week_cut\"].map(hours_per_week_cut_dic)\n",
    "train[\"encoding_education_num\"]=train[\"education_num_cut\"].map(education_num_cut_dic)\n",
    "train[\"encoding_race\"]=train[\"race\"].map(race_dic)\n",
    "train[\"encoding_marital_status\"]=train[\"marital-status\"].map(marital_status_dic)\n",
    "train[\"encoding_workclass\"]=train[\"workclass\"].map(workclass_dic)\n",
    "train[\"encoding_occupation\"]=train[\"occupation\"].map(occupation_dic)\n",
    "train[\"encoding_relationship\"]=train[\"relationship\"].map(relationship_dic)\n",
    "train[\"encoding_native_country\"]=train[\"native-country\"].map(native_country_dic)\n",
    "train[\"encoding_age_cut\"]=train[\"age_cut\"].map(age_cut_dic)"
   ]
  },
  {
   "cell_type": "code",
   "execution_count": 106,
   "metadata": {},
   "outputs": [],
   "source": [
    "test[\"encoding_sex\"]=test[\"sex\"].map(sex_dic)\n",
    "test[\"encoding_education\"]=test[\"education\"].map(education_dic)\n",
    "test[\"encoding_hours-per-week\"]=test[\"hours-per-week_cut\"].map(hours_per_week_cut_dic)\n",
    "test[\"encoding_education_num\"]=test[\"education_num_cut\"].map(education_num_cut_dic)\n",
    "test[\"encoding_race\"]=test[\"race\"].map(race_dic)\n",
    "test[\"encoding_marital_status\"]=test[\"marital-status\"].map(marital_status_dic)\n",
    "test[\"encoding_workclass\"]=test[\"workclass\"].map(workclass_dic)\n",
    "test[\"encoding_occupation\"]=test[\"occupation\"].map(occupation_dic)\n",
    "test[\"encoding_relationship\"]=test[\"relationship\"].map(relationship_dic)\n",
    "test[\"encoding_native_country\"]=test[\"native-country\"].map(native_country_dic)\n",
    "test[\"encoding_age_cut\"]=test[\"age_cut\"].map(age_cut_dic)"
   ]
  },
  {
   "cell_type": "code",
   "execution_count": null,
   "metadata": {},
   "outputs": [],
   "source": []
  },
  {
   "cell_type": "code",
   "execution_count": null,
   "metadata": {},
   "outputs": [],
   "source": []
  },
  {
   "cell_type": "code",
   "execution_count": 74,
   "metadata": {},
   "outputs": [
    {
     "name": "stdout",
     "output_type": "stream",
     "text": [
      "<class 'pandas.core.frame.DataFrame'>\n",
      "RangeIndex: 29305 entries, 0 to 29304\n",
      "Data columns (total 30 columns):\n",
      " #   Column                   Non-Null Count  Dtype   \n",
      "---  ------                   --------------  -----   \n",
      " 0   no                       29305 non-null  int64   \n",
      " 1   age                      29305 non-null  int64   \n",
      " 2   workclass                29305 non-null  object  \n",
      " 3   fnlwgt                   29305 non-null  int64   \n",
      " 4   education                29305 non-null  object  \n",
      " 5   education-num            29305 non-null  int64   \n",
      " 6   marital-status           29305 non-null  object  \n",
      " 7   occupation               29305 non-null  object  \n",
      " 8   relationship             29305 non-null  object  \n",
      " 9   race                     29305 non-null  object  \n",
      " 10  sex                      29305 non-null  object  \n",
      " 11  capital-gain             29305 non-null  int64   \n",
      " 12  capital-loss             29305 non-null  int64   \n",
      " 13  hours-per-week           29305 non-null  int64   \n",
      " 14  native-country           29305 non-null  object  \n",
      " 15  income                   29305 non-null  int64   \n",
      " 16  hours-per-week_cut       29305 non-null  category\n",
      " 17  education_num_cut        29305 non-null  category\n",
      " 18  encoding_sex             29305 non-null  int64   \n",
      " 19  encoding_education       29305 non-null  int64   \n",
      " 20  encoding_hours-per-week  29305 non-null  category\n",
      " 21  encoding_education_num   29305 non-null  category\n",
      " 22  encoding_race            29305 non-null  int64   \n",
      " 23  encoding_marital_status  29305 non-null  int64   \n",
      " 24  encoding_workclass       29305 non-null  int64   \n",
      " 25  encoding_occupation      29305 non-null  int64   \n",
      " 26  encoding_relationship    29305 non-null  int64   \n",
      " 27  encoding_native_country  29305 non-null  int64   \n",
      " 28  age_cut                  29305 non-null  category\n",
      " 29  encoding_age_cut         29305 non-null  category\n",
      "dtypes: category(6), int64(16), object(8)\n",
      "memory usage: 5.5+ MB\n"
     ]
    }
   ],
   "source": [
    "train.info()"
   ]
  },
  {
   "cell_type": "code",
   "execution_count": 78,
   "metadata": {},
   "outputs": [
    {
     "data": {
      "text/plain": [
       "Index(['no', 'age', 'workclass', 'fnlwgt', 'education', 'education-num',\n",
       "       'marital-status', 'occupation', 'relationship', 'race', 'sex',\n",
       "       'capital-gain', 'capital-loss', 'hours-per-week', 'native-country',\n",
       "       'income', 'hours-per-week_cut', 'education_num_cut', 'encoding_sex',\n",
       "       'encoding_education', 'encoding_hours-per-week',\n",
       "       'encoding_education_num', 'encoding_race', 'encoding_marital_status',\n",
       "       'encoding_workclass', 'encoding_occupation', 'encoding_relationship',\n",
       "       'encoding_native_country', 'age_cut', 'encoding_age_cut'],\n",
       "      dtype='object')"
      ]
     },
     "execution_count": 78,
     "metadata": {},
     "output_type": "execute_result"
    }
   ],
   "source": [
    "train.columns"
   ]
  },
  {
   "cell_type": "code",
   "execution_count": 108,
   "metadata": {},
   "outputs": [],
   "source": [
    "feature_names=[\"encoding_education_num\", \"encoding_workclass\", \"encoding_age_cut\", \"encoding_sex\", \"encoding_marital_status\"]\n",
    "# \"encoding_hours-per-week\" ,\"encoding_race\", \"encoding_education_num\" \"age\",\n",
    "# \"encoding_sex\", \"encoding_education\", \"encoding_marital_status\",\n",
    "#                \"encoding_workclass\", \"encoding_occupation\",\"encoding_relationship\"\n",
    "# \"education-num\", \"capital-gain\", \"age\", \"encoding_sex\", \"encoding_marital_status\"    n-neigbbor = 32  45\n",
    "# \"age\", \"education-num\",\"capital-gain\",\"capital-loss\",\"hours-per-week\", \"encoding_sex\",\"encoding_marital_status\", \"encoding_relationship\" n=1\n",
    "# feature_names=[\"education-num\", \"capital-gain\", \"encoding_age_cut\", \"encoding_sex\", \"encoding_marital_status\"]   22 10\n",
    "# feature_names=[\"encoding_education_num\", \"encoding_workclass\", \"encoding_age_cut\", \"encoding_sex\", \"encoding_marital_status\", \"encoding_race\"]\n",
    "X=train[feature_names]\n",
    "y=train[\"income\"]"
   ]
  },
  {
   "cell_type": "code",
   "execution_count": null,
   "metadata": {},
   "outputs": [],
   "source": []
  },
  {
   "cell_type": "code",
   "execution_count": 80,
   "metadata": {},
   "outputs": [
    {
     "data": {
      "text/html": [
       "<div>\n",
       "<style scoped>\n",
       "    .dataframe tbody tr th:only-of-type {\n",
       "        vertical-align: middle;\n",
       "    }\n",
       "\n",
       "    .dataframe tbody tr th {\n",
       "        vertical-align: top;\n",
       "    }\n",
       "\n",
       "    .dataframe thead th {\n",
       "        text-align: right;\n",
       "    }\n",
       "</style>\n",
       "<table border=\"1\" class=\"dataframe\">\n",
       "  <thead>\n",
       "    <tr style=\"text-align: right;\">\n",
       "      <th></th>\n",
       "      <th>no</th>\n",
       "      <th>age</th>\n",
       "      <th>fnlwgt</th>\n",
       "      <th>education-num</th>\n",
       "      <th>capital-gain</th>\n",
       "      <th>capital-loss</th>\n",
       "      <th>hours-per-week</th>\n",
       "      <th>income</th>\n",
       "      <th>encoding_sex</th>\n",
       "      <th>encoding_education</th>\n",
       "      <th>encoding_race</th>\n",
       "      <th>encoding_marital_status</th>\n",
       "      <th>encoding_workclass</th>\n",
       "      <th>encoding_occupation</th>\n",
       "      <th>encoding_relationship</th>\n",
       "      <th>encoding_native_country</th>\n",
       "    </tr>\n",
       "  </thead>\n",
       "  <tbody>\n",
       "    <tr>\n",
       "      <th>no</th>\n",
       "      <td>1.000000</td>\n",
       "      <td>0.001111</td>\n",
       "      <td>0.002347</td>\n",
       "      <td>-0.008466</td>\n",
       "      <td>0.003916</td>\n",
       "      <td>0.003246</td>\n",
       "      <td>0.003166</td>\n",
       "      <td>-0.004080</td>\n",
       "      <td>-0.000594</td>\n",
       "      <td>-0.005676</td>\n",
       "      <td>-0.001911</td>\n",
       "      <td>0.006434</td>\n",
       "      <td>-0.004028</td>\n",
       "      <td>0.000105</td>\n",
       "      <td>0.001820</td>\n",
       "      <td>-0.006143</td>\n",
       "    </tr>\n",
       "    <tr>\n",
       "      <th>age</th>\n",
       "      <td>0.001111</td>\n",
       "      <td>1.000000</td>\n",
       "      <td>-0.075753</td>\n",
       "      <td>0.035084</td>\n",
       "      <td>0.078498</td>\n",
       "      <td>0.054413</td>\n",
       "      <td>0.073100</td>\n",
       "      <td>0.238460</td>\n",
       "      <td>-0.083999</td>\n",
       "      <td>0.124836</td>\n",
       "      <td>-0.029991</td>\n",
       "      <td>-0.210882</td>\n",
       "      <td>0.030286</td>\n",
       "      <td>0.034938</td>\n",
       "      <td>0.129364</td>\n",
       "      <td>-0.008777</td>\n",
       "    </tr>\n",
       "    <tr>\n",
       "      <th>fnlwgt</th>\n",
       "      <td>0.002347</td>\n",
       "      <td>-0.075753</td>\n",
       "      <td>1.000000</td>\n",
       "      <td>-0.030600</td>\n",
       "      <td>-0.005051</td>\n",
       "      <td>-0.001513</td>\n",
       "      <td>-0.010154</td>\n",
       "      <td>-0.002994</td>\n",
       "      <td>-0.029929</td>\n",
       "      <td>0.008970</td>\n",
       "      <td>0.103257</td>\n",
       "      <td>0.023803</td>\n",
       "      <td>-0.003672</td>\n",
       "      <td>0.000513</td>\n",
       "      <td>0.011740</td>\n",
       "      <td>0.012823</td>\n",
       "    </tr>\n",
       "    <tr>\n",
       "      <th>education-num</th>\n",
       "      <td>-0.008466</td>\n",
       "      <td>0.035084</td>\n",
       "      <td>-0.030600</td>\n",
       "      <td>1.000000</td>\n",
       "      <td>0.127651</td>\n",
       "      <td>0.083925</td>\n",
       "      <td>0.147569</td>\n",
       "      <td>0.331798</td>\n",
       "      <td>-0.017029</td>\n",
       "      <td>-0.254092</td>\n",
       "      <td>-0.076638</td>\n",
       "      <td>-0.104637</td>\n",
       "      <td>-0.079869</td>\n",
       "      <td>-0.078294</td>\n",
       "      <td>-0.030847</td>\n",
       "      <td>-0.034830</td>\n",
       "    </tr>\n",
       "    <tr>\n",
       "      <th>capital-gain</th>\n",
       "      <td>0.003916</td>\n",
       "      <td>0.078498</td>\n",
       "      <td>-0.005051</td>\n",
       "      <td>0.127651</td>\n",
       "      <td>1.000000</td>\n",
       "      <td>-0.031401</td>\n",
       "      <td>0.088609</td>\n",
       "      <td>0.221387</td>\n",
       "      <td>-0.050664</td>\n",
       "      <td>0.017516</td>\n",
       "      <td>-0.019151</td>\n",
       "      <td>-0.071618</td>\n",
       "      <td>-0.017376</td>\n",
       "      <td>-0.022099</td>\n",
       "      <td>-0.023040</td>\n",
       "      <td>-0.006335</td>\n",
       "    </tr>\n",
       "    <tr>\n",
       "      <th>capital-loss</th>\n",
       "      <td>0.003246</td>\n",
       "      <td>0.054413</td>\n",
       "      <td>-0.001513</td>\n",
       "      <td>0.083925</td>\n",
       "      <td>-0.031401</td>\n",
       "      <td>1.000000</td>\n",
       "      <td>0.055271</td>\n",
       "      <td>0.135645</td>\n",
       "      <td>-0.042925</td>\n",
       "      <td>0.003726</td>\n",
       "      <td>-0.020994</td>\n",
       "      <td>-0.059473</td>\n",
       "      <td>-0.006684</td>\n",
       "      <td>-0.011276</td>\n",
       "      <td>-0.027403</td>\n",
       "      <td>-0.002419</td>\n",
       "    </tr>\n",
       "    <tr>\n",
       "      <th>hours-per-week</th>\n",
       "      <td>0.003166</td>\n",
       "      <td>0.073100</td>\n",
       "      <td>-0.010154</td>\n",
       "      <td>0.147569</td>\n",
       "      <td>0.088609</td>\n",
       "      <td>0.055271</td>\n",
       "      <td>1.000000</td>\n",
       "      <td>0.231045</td>\n",
       "      <td>-0.231437</td>\n",
       "      <td>0.007776</td>\n",
       "      <td>-0.050468</td>\n",
       "      <td>-0.220835</td>\n",
       "      <td>-0.168853</td>\n",
       "      <td>-0.071991</td>\n",
       "      <td>0.059773</td>\n",
       "      <td>-0.002442</td>\n",
       "    </tr>\n",
       "    <tr>\n",
       "      <th>income</th>\n",
       "      <td>-0.004080</td>\n",
       "      <td>0.238460</td>\n",
       "      <td>-0.002994</td>\n",
       "      <td>0.331798</td>\n",
       "      <td>0.221387</td>\n",
       "      <td>0.135645</td>\n",
       "      <td>0.231045</td>\n",
       "      <td>1.000000</td>\n",
       "      <td>-0.215613</td>\n",
       "      <td>0.001592</td>\n",
       "      <td>-0.099036</td>\n",
       "      <td>-0.376553</td>\n",
       "      <td>-0.078277</td>\n",
       "      <td>-0.081042</td>\n",
       "      <td>-0.171684</td>\n",
       "      <td>-0.014976</td>\n",
       "    </tr>\n",
       "    <tr>\n",
       "      <th>encoding_sex</th>\n",
       "      <td>-0.000594</td>\n",
       "      <td>-0.083999</td>\n",
       "      <td>-0.029929</td>\n",
       "      <td>-0.017029</td>\n",
       "      <td>-0.050664</td>\n",
       "      <td>-0.042925</td>\n",
       "      <td>-0.231437</td>\n",
       "      <td>-0.215613</td>\n",
       "      <td>1.000000</td>\n",
       "      <td>-0.030682</td>\n",
       "      <td>0.115437</td>\n",
       "      <td>0.378558</td>\n",
       "      <td>0.064234</td>\n",
       "      <td>0.071719</td>\n",
       "      <td>0.174204</td>\n",
       "      <td>0.000309</td>\n",
       "    </tr>\n",
       "    <tr>\n",
       "      <th>encoding_education</th>\n",
       "      <td>-0.005676</td>\n",
       "      <td>0.124836</td>\n",
       "      <td>0.008970</td>\n",
       "      <td>-0.254092</td>\n",
       "      <td>0.017516</td>\n",
       "      <td>0.003726</td>\n",
       "      <td>0.007776</td>\n",
       "      <td>0.001592</td>\n",
       "      <td>-0.030682</td>\n",
       "      <td>1.000000</td>\n",
       "      <td>0.008733</td>\n",
       "      <td>-0.014226</td>\n",
       "      <td>0.016662</td>\n",
       "      <td>0.020543</td>\n",
       "      <td>0.026068</td>\n",
       "      <td>-0.013171</td>\n",
       "    </tr>\n",
       "    <tr>\n",
       "      <th>encoding_race</th>\n",
       "      <td>-0.001911</td>\n",
       "      <td>-0.029991</td>\n",
       "      <td>0.103257</td>\n",
       "      <td>-0.076638</td>\n",
       "      <td>-0.019151</td>\n",
       "      <td>-0.020994</td>\n",
       "      <td>-0.050468</td>\n",
       "      <td>-0.099036</td>\n",
       "      <td>0.115437</td>\n",
       "      <td>0.008733</td>\n",
       "      <td>1.000000</td>\n",
       "      <td>0.131876</td>\n",
       "      <td>0.014415</td>\n",
       "      <td>0.038203</td>\n",
       "      <td>0.117620</td>\n",
       "      <td>-0.021999</td>\n",
       "    </tr>\n",
       "    <tr>\n",
       "      <th>encoding_marital_status</th>\n",
       "      <td>0.006434</td>\n",
       "      <td>-0.210882</td>\n",
       "      <td>0.023803</td>\n",
       "      <td>-0.104637</td>\n",
       "      <td>-0.071618</td>\n",
       "      <td>-0.059473</td>\n",
       "      <td>-0.220835</td>\n",
       "      <td>-0.376553</td>\n",
       "      <td>0.378558</td>\n",
       "      <td>-0.014226</td>\n",
       "      <td>0.131876</td>\n",
       "      <td>1.000000</td>\n",
       "      <td>0.081137</td>\n",
       "      <td>0.057803</td>\n",
       "      <td>0.359642</td>\n",
       "      <td>-0.004092</td>\n",
       "    </tr>\n",
       "    <tr>\n",
       "      <th>encoding_workclass</th>\n",
       "      <td>-0.004028</td>\n",
       "      <td>0.030286</td>\n",
       "      <td>-0.003672</td>\n",
       "      <td>-0.079869</td>\n",
       "      <td>-0.017376</td>\n",
       "      <td>-0.006684</td>\n",
       "      <td>-0.168853</td>\n",
       "      <td>-0.078277</td>\n",
       "      <td>0.064234</td>\n",
       "      <td>0.016662</td>\n",
       "      <td>0.014415</td>\n",
       "      <td>0.081137</td>\n",
       "      <td>1.000000</td>\n",
       "      <td>0.594054</td>\n",
       "      <td>-0.050434</td>\n",
       "      <td>0.003718</td>\n",
       "    </tr>\n",
       "    <tr>\n",
       "      <th>encoding_occupation</th>\n",
       "      <td>0.000105</td>\n",
       "      <td>0.034938</td>\n",
       "      <td>0.000513</td>\n",
       "      <td>-0.078294</td>\n",
       "      <td>-0.022099</td>\n",
       "      <td>-0.011276</td>\n",
       "      <td>-0.071991</td>\n",
       "      <td>-0.081042</td>\n",
       "      <td>0.071719</td>\n",
       "      <td>0.020543</td>\n",
       "      <td>0.038203</td>\n",
       "      <td>0.057803</td>\n",
       "      <td>0.594054</td>\n",
       "      <td>1.000000</td>\n",
       "      <td>-0.025062</td>\n",
       "      <td>0.013872</td>\n",
       "    </tr>\n",
       "    <tr>\n",
       "      <th>encoding_relationship</th>\n",
       "      <td>0.001820</td>\n",
       "      <td>0.129364</td>\n",
       "      <td>0.011740</td>\n",
       "      <td>-0.030847</td>\n",
       "      <td>-0.023040</td>\n",
       "      <td>-0.027403</td>\n",
       "      <td>0.059773</td>\n",
       "      <td>-0.171684</td>\n",
       "      <td>0.174204</td>\n",
       "      <td>0.026068</td>\n",
       "      <td>0.117620</td>\n",
       "      <td>0.359642</td>\n",
       "      <td>-0.050434</td>\n",
       "      <td>-0.025062</td>\n",
       "      <td>1.000000</td>\n",
       "      <td>-0.000269</td>\n",
       "    </tr>\n",
       "    <tr>\n",
       "      <th>encoding_native_country</th>\n",
       "      <td>-0.006143</td>\n",
       "      <td>-0.008777</td>\n",
       "      <td>0.012823</td>\n",
       "      <td>-0.034830</td>\n",
       "      <td>-0.006335</td>\n",
       "      <td>-0.002419</td>\n",
       "      <td>-0.002442</td>\n",
       "      <td>-0.014976</td>\n",
       "      <td>0.000309</td>\n",
       "      <td>-0.013171</td>\n",
       "      <td>-0.021999</td>\n",
       "      <td>-0.004092</td>\n",
       "      <td>0.003718</td>\n",
       "      <td>0.013872</td>\n",
       "      <td>-0.000269</td>\n",
       "      <td>1.000000</td>\n",
       "    </tr>\n",
       "  </tbody>\n",
       "</table>\n",
       "</div>"
      ],
      "text/plain": [
       "                               no       age    fnlwgt  education-num  \\\n",
       "no                       1.000000  0.001111  0.002347      -0.008466   \n",
       "age                      0.001111  1.000000 -0.075753       0.035084   \n",
       "fnlwgt                   0.002347 -0.075753  1.000000      -0.030600   \n",
       "education-num           -0.008466  0.035084 -0.030600       1.000000   \n",
       "capital-gain             0.003916  0.078498 -0.005051       0.127651   \n",
       "capital-loss             0.003246  0.054413 -0.001513       0.083925   \n",
       "hours-per-week           0.003166  0.073100 -0.010154       0.147569   \n",
       "income                  -0.004080  0.238460 -0.002994       0.331798   \n",
       "encoding_sex            -0.000594 -0.083999 -0.029929      -0.017029   \n",
       "encoding_education      -0.005676  0.124836  0.008970      -0.254092   \n",
       "encoding_race           -0.001911 -0.029991  0.103257      -0.076638   \n",
       "encoding_marital_status  0.006434 -0.210882  0.023803      -0.104637   \n",
       "encoding_workclass      -0.004028  0.030286 -0.003672      -0.079869   \n",
       "encoding_occupation      0.000105  0.034938  0.000513      -0.078294   \n",
       "encoding_relationship    0.001820  0.129364  0.011740      -0.030847   \n",
       "encoding_native_country -0.006143 -0.008777  0.012823      -0.034830   \n",
       "\n",
       "                         capital-gain  capital-loss  hours-per-week    income  \\\n",
       "no                           0.003916      0.003246        0.003166 -0.004080   \n",
       "age                          0.078498      0.054413        0.073100  0.238460   \n",
       "fnlwgt                      -0.005051     -0.001513       -0.010154 -0.002994   \n",
       "education-num                0.127651      0.083925        0.147569  0.331798   \n",
       "capital-gain                 1.000000     -0.031401        0.088609  0.221387   \n",
       "capital-loss                -0.031401      1.000000        0.055271  0.135645   \n",
       "hours-per-week               0.088609      0.055271        1.000000  0.231045   \n",
       "income                       0.221387      0.135645        0.231045  1.000000   \n",
       "encoding_sex                -0.050664     -0.042925       -0.231437 -0.215613   \n",
       "encoding_education           0.017516      0.003726        0.007776  0.001592   \n",
       "encoding_race               -0.019151     -0.020994       -0.050468 -0.099036   \n",
       "encoding_marital_status     -0.071618     -0.059473       -0.220835 -0.376553   \n",
       "encoding_workclass          -0.017376     -0.006684       -0.168853 -0.078277   \n",
       "encoding_occupation         -0.022099     -0.011276       -0.071991 -0.081042   \n",
       "encoding_relationship       -0.023040     -0.027403        0.059773 -0.171684   \n",
       "encoding_native_country     -0.006335     -0.002419       -0.002442 -0.014976   \n",
       "\n",
       "                         encoding_sex  encoding_education  encoding_race  \\\n",
       "no                          -0.000594           -0.005676      -0.001911   \n",
       "age                         -0.083999            0.124836      -0.029991   \n",
       "fnlwgt                      -0.029929            0.008970       0.103257   \n",
       "education-num               -0.017029           -0.254092      -0.076638   \n",
       "capital-gain                -0.050664            0.017516      -0.019151   \n",
       "capital-loss                -0.042925            0.003726      -0.020994   \n",
       "hours-per-week              -0.231437            0.007776      -0.050468   \n",
       "income                      -0.215613            0.001592      -0.099036   \n",
       "encoding_sex                 1.000000           -0.030682       0.115437   \n",
       "encoding_education          -0.030682            1.000000       0.008733   \n",
       "encoding_race                0.115437            0.008733       1.000000   \n",
       "encoding_marital_status      0.378558           -0.014226       0.131876   \n",
       "encoding_workclass           0.064234            0.016662       0.014415   \n",
       "encoding_occupation          0.071719            0.020543       0.038203   \n",
       "encoding_relationship        0.174204            0.026068       0.117620   \n",
       "encoding_native_country      0.000309           -0.013171      -0.021999   \n",
       "\n",
       "                         encoding_marital_status  encoding_workclass  \\\n",
       "no                                      0.006434           -0.004028   \n",
       "age                                    -0.210882            0.030286   \n",
       "fnlwgt                                  0.023803           -0.003672   \n",
       "education-num                          -0.104637           -0.079869   \n",
       "capital-gain                           -0.071618           -0.017376   \n",
       "capital-loss                           -0.059473           -0.006684   \n",
       "hours-per-week                         -0.220835           -0.168853   \n",
       "income                                 -0.376553           -0.078277   \n",
       "encoding_sex                            0.378558            0.064234   \n",
       "encoding_education                     -0.014226            0.016662   \n",
       "encoding_race                           0.131876            0.014415   \n",
       "encoding_marital_status                 1.000000            0.081137   \n",
       "encoding_workclass                      0.081137            1.000000   \n",
       "encoding_occupation                     0.057803            0.594054   \n",
       "encoding_relationship                   0.359642           -0.050434   \n",
       "encoding_native_country                -0.004092            0.003718   \n",
       "\n",
       "                         encoding_occupation  encoding_relationship  \\\n",
       "no                                  0.000105               0.001820   \n",
       "age                                 0.034938               0.129364   \n",
       "fnlwgt                              0.000513               0.011740   \n",
       "education-num                      -0.078294              -0.030847   \n",
       "capital-gain                       -0.022099              -0.023040   \n",
       "capital-loss                       -0.011276              -0.027403   \n",
       "hours-per-week                     -0.071991               0.059773   \n",
       "income                             -0.081042              -0.171684   \n",
       "encoding_sex                        0.071719               0.174204   \n",
       "encoding_education                  0.020543               0.026068   \n",
       "encoding_race                       0.038203               0.117620   \n",
       "encoding_marital_status             0.057803               0.359642   \n",
       "encoding_workclass                  0.594054              -0.050434   \n",
       "encoding_occupation                 1.000000              -0.025062   \n",
       "encoding_relationship              -0.025062               1.000000   \n",
       "encoding_native_country             0.013872              -0.000269   \n",
       "\n",
       "                         encoding_native_country  \n",
       "no                                     -0.006143  \n",
       "age                                    -0.008777  \n",
       "fnlwgt                                  0.012823  \n",
       "education-num                          -0.034830  \n",
       "capital-gain                           -0.006335  \n",
       "capital-loss                           -0.002419  \n",
       "hours-per-week                         -0.002442  \n",
       "income                                 -0.014976  \n",
       "encoding_sex                            0.000309  \n",
       "encoding_education                     -0.013171  \n",
       "encoding_race                          -0.021999  \n",
       "encoding_marital_status                -0.004092  \n",
       "encoding_workclass                      0.003718  \n",
       "encoding_occupation                     0.013872  \n",
       "encoding_relationship                  -0.000269  \n",
       "encoding_native_country                 1.000000  "
      ]
     },
     "execution_count": 80,
     "metadata": {},
     "output_type": "execute_result"
    }
   ],
   "source": [
    "train.corr()"
   ]
  },
  {
   "cell_type": "code",
   "execution_count": 25,
   "metadata": {
    "scrolled": true
   },
   "outputs": [],
   "source": [
    "# pd.plotting.scatter_matrix(\n",
    "#     train.iloc[:,:], # 산점도를 그릴 데이터\n",
    "#     figsize=(15,15), # 그림 가로세로 비율\n",
    "#     marker=\"o\", # 점의 모양\n",
    "#     c=train[\"income\"],\n",
    "#     alpha=.8,\n",
    "#     s=60\n",
    "# )"
   ]
  },
  {
   "cell_type": "code",
   "execution_count": 26,
   "metadata": {
    "scrolled": true
   },
   "outputs": [
    {
     "data": {
      "text/plain": [
       "<matplotlib.axes._subplots.AxesSubplot at 0x11d7b03ac10>"
      ]
     },
     "execution_count": 26,
     "metadata": {},
     "output_type": "execute_result"
    },
    {
     "data": {
      "image/png": "[encoded data removed]",
      "text/plain": [
       "<Figure size 432x288 with 1 Axes>"
      ]
     },
     "metadata": {},
     "output_type": "display_data"
    },
    {
     "data": {
      "image/png": "[encoded data removed]",
      "text/plain": [
       "<Figure size 432x288 with 1 Axes>"
      ]
     },
     "metadata": {},
     "output_type": "display_data"
    },
    {
     "data": {
      "image/png": "[encoded data removed]",
      "text/plain": [
       "<Figure size 432x288 with 1 Axes>"
      ]
     },
     "metadata": {},
     "output_type": "display_data"
    }
   ],
   "source": [
    "train.pivot_table(index=\"sex\", columns=\"income\", values=\"age\", aggfunc=\"count\").plot(kind='bar', alpha=0.75, rot=0)\n",
    "train.pivot_table(index=\"race\", columns=\"income\", values=\"sex\", aggfunc=\"count\").plot(kind='bar', alpha=0.75, rot=0)\n",
    "train.pivot_table(index=[\"race\",\"sex\"], columns=\"income\", values=\"age\", aggfunc=\"count\").plot(kind='bar', alpha=0.75, rot=0)"
   ]
  },
  {
   "cell_type": "code",
   "execution_count": 27,
   "metadata": {
    "scrolled": true
   },
   "outputs": [
    {
     "data": {
      "text/plain": [
       "<matplotlib.axes._subplots.AxesSubplot at 0x11d7bef2fd0>"
      ]
     },
     "execution_count": 27,
     "metadata": {},
     "output_type": "execute_result"
    },
    {
     "data": {
      "image/png": "[encoded data removed]",
      "text/plain": [
       "<Figure size 1080x1440 with 1 Axes>"
      ]
     },
     "metadata": {},
     "output_type": "display_data"
    }
   ],
   "source": [
    "plt.figure(figsize=(15,20))\n",
    "sns.violinplot(data=train, x=\"age\", y=\"occupation\", hue=\"income\", split=True)"
   ]
  },
  {
   "cell_type": "markdown",
   "metadata": {},
   "source": [
    "### 하이퍼파라미터 튜닝"
   ]
  },
  {
   "cell_type": "code",
   "execution_count": 109,
   "metadata": {},
   "outputs": [
    {
     "name": "stdout",
     "output_type": "stream",
     "text": [
      "68\n"
     ]
    }
   ],
   "source": [
    "test_score_list=[] #이웃을 변경하면서 나오는 test 점수를 넣을리스트\n",
    "train_score_list=[] # train 점수를 넣을 list\n",
    "max_value=-1;\n",
    "K=1;\n",
    "for k in range(1,90):\n",
    "    model=KNeighborsClassifier(n_neighbors=k)\n",
    "    model.fit(X,y) #훈련 데이터 학습\n",
    "    test_pre=model.predict(X)#평가 데이터 예측\n",
    "    test_score=accuracy_score(y,test_pre)# 테스트데이터의 정확도\n",
    "    if max_value < test_score:\n",
    "        max_value=test_score\n",
    "        K=k\n",
    "    test_score_list.append(test_score)\n",
    "    #훈련 데이터에 대한 점수 계산\n",
    "    train_score=model.score(X, y)\n",
    "    train_score_list.append(train_score)\n",
    "print(K)"
   ]
  },
  {
   "cell_type": "code",
   "execution_count": 110,
   "metadata": {},
   "outputs": [
    {
     "name": "stdout",
     "output_type": "stream",
     "text": [
      "max_depth = 6 정확도 : 0.8231\n",
      "max_depth = 8 정확도 : 0.8234\n",
      "max_depth = 10 정확도 : 0.8234\n",
      "max_depth = 12 정확도 : 0.8234\n",
      "max_depth = 16 정확도 : 0.8234\n",
      "max_depth = 20 정확도 : 0.8234\n",
      "max_depth = 24 정확도 : 0.8234\n",
      "max_depth = 30 정확도 : 0.8234\n",
      "max_depth = 36 정확도 : 0.8234\n",
      "max_depth = 40 정확도 : 0.8234\n",
      "max_depth = 44 정확도 : 0.8234\n",
      "max_depth = 48 정확도 : 0.8234\n"
     ]
    }
   ],
   "source": [
    "max_depths = [6, 8, 10, 12, 16, 20, 24, 30,36,40,44,48]\n",
    "\n",
    "for depth in max_depths:\n",
    "    dt_clf = DecisionTreeClassifier(max_depth=depth, random_state=210)\n",
    "    dt_clf.fit(X, y)\n",
    "    pred = dt_clf.predict(X)\n",
    "    accuracy = accuracy_score(y, pred)\n",
    "    print('max_depth = {0} 정확도 : {1:.4f}'.format(depth, accuracy))"
   ]
  },
  {
   "cell_type": "code",
   "execution_count": 111,
   "metadata": {},
   "outputs": [],
   "source": [
    "knn_model=KNeighborsClassifier(n_neighbors=68)# 기본 이웃 수는 5개 \n",
    "tree_model=DecisionTreeClassifier(max_depth=6, random_state=210)"
   ]
  },
  {
   "cell_type": "code",
   "execution_count": 112,
   "metadata": {},
   "outputs": [
    {
     "data": {
      "text/plain": [
       "((29305, 5), (29305,))"
      ]
     },
     "execution_count": 112,
     "metadata": {},
     "output_type": "execute_result"
    }
   ],
   "source": [
    "X.shape, y.shape"
   ]
  },
  {
   "cell_type": "code",
   "execution_count": 113,
   "metadata": {},
   "outputs": [
    {
     "data": {
      "text/plain": [
       "DecisionTreeClassifier(max_depth=6, random_state=210)"
      ]
     },
     "execution_count": 113,
     "metadata": {},
     "output_type": "execute_result"
    }
   ],
   "source": [
    "knn_model.fit(X,y)\n",
    "tree_model.fit(X,y)"
   ]
  },
  {
   "cell_type": "markdown",
   "metadata": {},
   "source": [
    "### 예측"
   ]
  },
  {
   "cell_type": "code",
   "execution_count": 114,
   "metadata": {},
   "outputs": [
    {
     "data": {
      "text/plain": [
       "(19537, 5)"
      ]
     },
     "execution_count": 114,
     "metadata": {},
     "output_type": "execute_result"
    }
   ],
   "source": [
    "X_test=test[feature_names]\n",
    "X_test.shape"
   ]
  },
  {
   "cell_type": "code",
   "execution_count": 115,
   "metadata": {},
   "outputs": [],
   "source": [
    "knn_pre=knn_model.predict(X_test)\n",
    "tree_pre=tree_model.predict(X_test)"
   ]
  },
  {
   "cell_type": "markdown",
   "metadata": {},
   "source": [
    "### 평가"
   ]
  },
  {
   "cell_type": "code",
   "execution_count": 116,
   "metadata": {
    "scrolled": true
   },
   "outputs": [
    {
     "data": {
      "text/html": [
       "<div>\n",
       "<style scoped>\n",
       "    .dataframe tbody tr th:only-of-type {\n",
       "        vertical-align: middle;\n",
       "    }\n",
       "\n",
       "    .dataframe tbody tr th {\n",
       "        vertical-align: top;\n",
       "    }\n",
       "\n",
       "    .dataframe thead th {\n",
       "        text-align: right;\n",
       "    }\n",
       "</style>\n",
       "<table border=\"1\" class=\"dataframe\">\n",
       "  <thead>\n",
       "    <tr style=\"text-align: right;\">\n",
       "      <th></th>\n",
       "      <th>no</th>\n",
       "      <th>income</th>\n",
       "    </tr>\n",
       "  </thead>\n",
       "  <tbody>\n",
       "    <tr>\n",
       "      <th>0</th>\n",
       "      <td>29306</td>\n",
       "      <td>0</td>\n",
       "    </tr>\n",
       "    <tr>\n",
       "      <th>1</th>\n",
       "      <td>29307</td>\n",
       "      <td>0</td>\n",
       "    </tr>\n",
       "    <tr>\n",
       "      <th>2</th>\n",
       "      <td>29308</td>\n",
       "      <td>0</td>\n",
       "    </tr>\n",
       "    <tr>\n",
       "      <th>3</th>\n",
       "      <td>29309</td>\n",
       "      <td>0</td>\n",
       "    </tr>\n",
       "    <tr>\n",
       "      <th>4</th>\n",
       "      <td>29310</td>\n",
       "      <td>0</td>\n",
       "    </tr>\n",
       "    <tr>\n",
       "      <th>...</th>\n",
       "      <td>...</td>\n",
       "      <td>...</td>\n",
       "    </tr>\n",
       "    <tr>\n",
       "      <th>19532</th>\n",
       "      <td>48838</td>\n",
       "      <td>1</td>\n",
       "    </tr>\n",
       "    <tr>\n",
       "      <th>19533</th>\n",
       "      <td>48839</td>\n",
       "      <td>0</td>\n",
       "    </tr>\n",
       "    <tr>\n",
       "      <th>19534</th>\n",
       "      <td>48840</td>\n",
       "      <td>1</td>\n",
       "    </tr>\n",
       "    <tr>\n",
       "      <th>19535</th>\n",
       "      <td>48841</td>\n",
       "      <td>0</td>\n",
       "    </tr>\n",
       "    <tr>\n",
       "      <th>19536</th>\n",
       "      <td>48842</td>\n",
       "      <td>0</td>\n",
       "    </tr>\n",
       "  </tbody>\n",
       "</table>\n",
       "<p>19537 rows × 2 columns</p>\n",
       "</div>"
      ],
      "text/plain": [
       "          no  income\n",
       "0      29306       0\n",
       "1      29307       0\n",
       "2      29308       0\n",
       "3      29309       0\n",
       "4      29310       0\n",
       "...      ...     ...\n",
       "19532  48838       1\n",
       "19533  48839       0\n",
       "19534  48840       1\n",
       "19535  48841       0\n",
       "19536  48842       0\n",
       "\n",
       "[19537 rows x 2 columns]"
      ]
     },
     "execution_count": 116,
     "metadata": {},
     "output_type": "execute_result"
    }
   ],
   "source": [
    "submission=pd.read_csv(\"smhrd20210201 (1)/sample_submission.csv\")\n",
    "submission\n"
   ]
  },
  {
   "cell_type": "code",
   "execution_count": 117,
   "metadata": {},
   "outputs": [],
   "source": [
    "submission[\"income\"]=knn_pre\n",
    "submission.to_csv(\"smhrd20210201 (1)/knn_pre_16_sonjunho.csv\", index=False)\n",
    "submission[\"income\"]=tree_pre\n",
    "submission.to_csv(\"smhrd20210201 (1)/tree_pre_16_sonjunho.csv\", index=False)\n"
   ]
  },
  {
   "cell_type": "code",
   "execution_count": null,
   "metadata": {},
   "outputs": [],
   "source": []
  },
  {
   "cell_type": "code",
   "execution_count": null,
   "metadata": {},
   "outputs": [],
   "source": []
  }
 ],
 "metadata": {
  "kernelspec": {
   "display_name": "Python 3",
   "language": "python",
   "name": "python3"
  },
  "language_info": {
   "codemirror_mode": {
    "name": "ipython",
    "version": 3
   },
   "file_extension": ".py",
   "mimetype": "text/x-python",
   "name": "python",
   "nbconvert_exporter": "python",
   "pygments_lexer": "ipython3",
   "version": "3.8.3"
  }
 },
 "nbformat": 4,
 "nbformat_minor": 4
}
